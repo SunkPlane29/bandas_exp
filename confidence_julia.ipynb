{
 "cells": [
  {
   "cell_type": "code",
   "execution_count": 2,
   "metadata": {},
   "outputs": [],
   "source": [
    "using DelimitedFiles\n",
    "using InformationGeometry\n",
    "using DataFrames\n",
    "using CSV\n",
    "using Plots"
   ]
  },
  {
   "cell_type": "code",
   "execution_count": 4,
   "metadata": {},
   "outputs": [
    {
     "data": {
      "text/html": [
       "<div><div style = \"float: left;\"><span>2921×6 DataFrame</span></div><div style = \"float: right;\"><span style = \"font-style: italic;\">2896 rows omitted</span></div><div style = \"clear: both;\"></div></div><div class = \"data-frame\" style = \"overflow-x: scroll;\"><table class = \"data-frame\" style = \"margin-bottom: 6px;\"><thead><tr class = \"header\"><th class = \"rowNumber\" style = \"font-weight: bold; text-align: right;\">Row</th><th style = \"text-align: left;\">m1</th><th style = \"text-align: left;\">m2</th><th style = \"text-align: left;\">lambda1</th><th style = \"text-align: left;\">lambda2</th><th style = \"text-align: left;\">r1</th><th style = \"text-align: left;\">r2</th></tr><tr class = \"subheader headerLastRow\"><th class = \"rowNumber\" style = \"font-weight: bold; text-align: right;\"></th><th title = \"Float64\" style = \"text-align: left;\">Float64</th><th title = \"Float64\" style = \"text-align: left;\">Float64</th><th title = \"Float64\" style = \"text-align: left;\">Float64</th><th title = \"Float64\" style = \"text-align: left;\">Float64</th><th title = \"Float64\" style = \"text-align: left;\">Float64</th><th title = \"Float64\" style = \"text-align: left;\">Float64</th></tr></thead><tbody><tr><td class = \"rowNumber\" style = \"font-weight: bold; text-align: right;\">1</td><td style = \"text-align: right;\">1.54324</td><td style = \"text-align: right;\">1.20575</td><td style = \"text-align: right;\">97.0682</td><td style = \"text-align: right;\">248.541</td><td style = \"text-align: right;\">10.7308</td><td style = \"text-align: right;\">9.35821</td></tr><tr><td class = \"rowNumber\" style = \"font-weight: bold; text-align: right;\">2</td><td style = \"text-align: right;\">1.48259</td><td style = \"text-align: right;\">1.25312</td><td style = \"text-align: right;\">19.6777</td><td style = \"text-align: right;\">280.481</td><td style = \"text-align: right;\">8.186</td><td style = \"text-align: right;\">9.83399</td></tr><tr><td class = \"rowNumber\" style = \"font-weight: bold; text-align: right;\">3</td><td style = \"text-align: right;\">1.54161</td><td style = \"text-align: right;\">1.20694</td><td style = \"text-align: right;\">31.5247</td><td style = \"text-align: right;\">235.512</td><td style = \"text-align: right;\">9.14959</td><td style = \"text-align: right;\">9.37391</td></tr><tr><td class = \"rowNumber\" style = \"font-weight: bold; text-align: right;\">4</td><td style = \"text-align: right;\">1.56288</td><td style = \"text-align: right;\">1.19148</td><td style = \"text-align: right;\">49.5723</td><td style = \"text-align: right;\">409.682</td><td style = \"text-align: right;\">9.95113</td><td style = \"text-align: right;\">10.1028</td></tr><tr><td class = \"rowNumber\" style = \"font-weight: bold; text-align: right;\">5</td><td style = \"text-align: right;\">1.6563</td><td style = \"text-align: right;\">1.12827</td><td style = \"text-align: right;\">27.4413</td><td style = \"text-align: right;\">246.93</td><td style = \"text-align: right;\">9.60285</td><td style = \"text-align: right;\">9.39553</td></tr><tr><td class = \"rowNumber\" style = \"font-weight: bold; text-align: right;\">6</td><td style = \"text-align: right;\">1.58729</td><td style = \"text-align: right;\">1.17432</td><td style = \"text-align: right;\">84.8243</td><td style = \"text-align: right;\">455.685</td><td style = \"text-align: right;\">10.6727</td><td style = \"text-align: right;\">10.2046</td></tr><tr><td class = \"rowNumber\" style = \"font-weight: bold; text-align: right;\">7</td><td style = \"text-align: right;\">1.516</td><td style = \"text-align: right;\">1.22652</td><td style = \"text-align: right;\">88.5915</td><td style = \"text-align: right;\">387.907</td><td style = \"text-align: right;\">10.3445</td><td style = \"text-align: right;\">10.2761</td></tr><tr><td class = \"rowNumber\" style = \"font-weight: bold; text-align: right;\">8</td><td style = \"text-align: right;\">1.49418</td><td style = \"text-align: right;\">1.24364</td><td style = \"text-align: right;\">130.017</td><td style = \"text-align: right;\">298.533</td><td style = \"text-align: right;\">11.3368</td><td style = \"text-align: right;\">9.80664</td></tr><tr><td class = \"rowNumber\" style = \"font-weight: bold; text-align: right;\">9</td><td style = \"text-align: right;\">1.60152</td><td style = \"text-align: right;\">1.16441</td><td style = \"text-align: right;\">107.787</td><td style = \"text-align: right;\">734.135</td><td style = \"text-align: right;\">11.7319</td><td style = \"text-align: right;\">10.7277</td></tr><tr><td class = \"rowNumber\" style = \"font-weight: bold; text-align: right;\">10</td><td style = \"text-align: right;\">1.37055</td><td style = \"text-align: right;\">1.35368</td><td style = \"text-align: right;\">196.504</td><td style = \"text-align: right;\">217.925</td><td style = \"text-align: right;\">10.565</td><td style = \"text-align: right;\">10.4665</td></tr><tr><td class = \"rowNumber\" style = \"font-weight: bold; text-align: right;\">11</td><td style = \"text-align: right;\">1.62957</td><td style = \"text-align: right;\">1.14584</td><td style = \"text-align: right;\">146.334</td><td style = \"text-align: right;\">1545.88</td><td style = \"text-align: right;\">12.3021</td><td style = \"text-align: right;\">12.3168</td></tr><tr><td class = \"rowNumber\" style = \"font-weight: bold; text-align: right;\">12</td><td style = \"text-align: right;\">1.62455</td><td style = \"text-align: right;\">1.14899</td><td style = \"text-align: right;\">61.217</td><td style = \"text-align: right;\">746.274</td><td style = \"text-align: right;\">10.4087</td><td style = \"text-align: right;\">11.1548</td></tr><tr><td class = \"rowNumber\" style = \"font-weight: bold; text-align: right;\">13</td><td style = \"text-align: right;\">1.42081</td><td style = \"text-align: right;\">1.30645</td><td style = \"text-align: right;\">597.032</td><td style = \"text-align: right;\">984.225</td><td style = \"text-align: right;\">13.1329</td><td style = \"text-align: right;\">12.5499</td></tr><tr><td style = \"text-align: right;\">&vellip;</td><td style = \"text-align: right;\">&vellip;</td><td style = \"text-align: right;\">&vellip;</td><td style = \"text-align: right;\">&vellip;</td><td style = \"text-align: right;\">&vellip;</td><td style = \"text-align: right;\">&vellip;</td><td style = \"text-align: right;\">&vellip;</td></tr><tr><td class = \"rowNumber\" style = \"font-weight: bold; text-align: right;\">2910</td><td style = \"text-align: right;\">1.48811</td><td style = \"text-align: right;\">1.24858</td><td style = \"text-align: right;\">89.6961</td><td style = \"text-align: right;\">253.935</td><td style = \"text-align: right;\">9.96805</td><td style = \"text-align: right;\">9.68106</td></tr><tr><td class = \"rowNumber\" style = \"font-weight: bold; text-align: right;\">2911</td><td style = \"text-align: right;\">1.42663</td><td style = \"text-align: right;\">1.30087</td><td style = \"text-align: right;\">115.611</td><td style = \"text-align: right;\">170.653</td><td style = \"text-align: right;\">9.81941</td><td style = \"text-align: right;\">10.0578</td></tr><tr><td class = \"rowNumber\" style = \"font-weight: bold; text-align: right;\">2912</td><td style = \"text-align: right;\">1.60348</td><td style = \"text-align: right;\">1.16302</td><td style = \"text-align: right;\">52.6508</td><td style = \"text-align: right;\">460.257</td><td style = \"text-align: right;\">10.678</td><td style = \"text-align: right;\">10.4188</td></tr><tr><td class = \"rowNumber\" style = \"font-weight: bold; text-align: right;\">2913</td><td style = \"text-align: right;\">1.62206</td><td style = \"text-align: right;\">1.15049</td><td style = \"text-align: right;\">11.8809</td><td style = \"text-align: right;\">172.122</td><td style = \"text-align: right;\">8.66893</td><td style = \"text-align: right;\">8.38871</td></tr><tr><td class = \"rowNumber\" style = \"font-weight: bold; text-align: right;\">2914</td><td style = \"text-align: right;\">1.53858</td><td style = \"text-align: right;\">1.20918</td><td style = \"text-align: right;\">59.9156</td><td style = \"text-align: right;\">404.68</td><td style = \"text-align: right;\">10.1451</td><td style = \"text-align: right;\">10.485</td></tr><tr><td class = \"rowNumber\" style = \"font-weight: bold; text-align: right;\">2915</td><td style = \"text-align: right;\">1.56742</td><td style = \"text-align: right;\">1.18845</td><td style = \"text-align: right;\">189.905</td><td style = \"text-align: right;\">1202.68</td><td style = \"text-align: right;\">12.2692</td><td style = \"text-align: right;\">11.9623</td></tr><tr><td class = \"rowNumber\" style = \"font-weight: bold; text-align: right;\">2916</td><td style = \"text-align: right;\">1.55286</td><td style = \"text-align: right;\">1.19876</td><td style = \"text-align: right;\">74.5403</td><td style = \"text-align: right;\">473.541</td><td style = \"text-align: right;\">10.1105</td><td style = \"text-align: right;\">10.5091</td></tr><tr><td class = \"rowNumber\" style = \"font-weight: bold; text-align: right;\">2917</td><td style = \"text-align: right;\">1.50833</td><td style = \"text-align: right;\">1.2325</td><td style = \"text-align: right;\">91.4214</td><td style = \"text-align: right;\">229.584</td><td style = \"text-align: right;\">10.7303</td><td style = \"text-align: right;\">9.90107</td></tr><tr><td class = \"rowNumber\" style = \"font-weight: bold; text-align: right;\">2918</td><td style = \"text-align: right;\">1.60258</td><td style = \"text-align: right;\">1.16359</td><td style = \"text-align: right;\">59.8206</td><td style = \"text-align: right;\">266.474</td><td style = \"text-align: right;\">10.0584</td><td style = \"text-align: right;\">9.31471</td></tr><tr><td class = \"rowNumber\" style = \"font-weight: bold; text-align: right;\">2919</td><td style = \"text-align: right;\">1.56125</td><td style = \"text-align: right;\">1.19254</td><td style = \"text-align: right;\">12.952</td><td style = \"text-align: right;\">234.311</td><td style = \"text-align: right;\">8.47579</td><td style = \"text-align: right;\">9.32884</td></tr><tr><td class = \"rowNumber\" style = \"font-weight: bold; text-align: right;\">2920</td><td style = \"text-align: right;\">1.47602</td><td style = \"text-align: right;\">1.2584</td><td style = \"text-align: right;\">126.7</td><td style = \"text-align: right;\">346.596</td><td style = \"text-align: right;\">10.7416</td><td style = \"text-align: right;\">10.8446</td></tr><tr><td class = \"rowNumber\" style = \"font-weight: bold; text-align: right;\">2921</td><td style = \"text-align: right;\">1.39578</td><td style = \"text-align: right;\">1.32945</td><td style = \"text-align: right;\">615.503</td><td style = \"text-align: right;\">751.87</td><td style = \"text-align: right;\">12.835</td><td style = \"text-align: right;\">12.6825</td></tr></tbody></table></div>"
      ],
      "text/latex": [
       "\\begin{tabular}{r|cccccc}\n",
       "\t& m1 & m2 & lambda1 & lambda2 & r1 & r2\\\\\n",
       "\t\\hline\n",
       "\t& Float64 & Float64 & Float64 & Float64 & Float64 & Float64\\\\\n",
       "\t\\hline\n",
       "\t1 & 1.54324 & 1.20575 & 97.0682 & 248.541 & 10.7308 & 9.35821 \\\\\n",
       "\t2 & 1.48259 & 1.25312 & 19.6777 & 280.481 & 8.186 & 9.83399 \\\\\n",
       "\t3 & 1.54161 & 1.20694 & 31.5247 & 235.512 & 9.14959 & 9.37391 \\\\\n",
       "\t4 & 1.56288 & 1.19148 & 49.5723 & 409.682 & 9.95113 & 10.1028 \\\\\n",
       "\t5 & 1.6563 & 1.12827 & 27.4413 & 246.93 & 9.60285 & 9.39553 \\\\\n",
       "\t6 & 1.58729 & 1.17432 & 84.8243 & 455.685 & 10.6727 & 10.2046 \\\\\n",
       "\t7 & 1.516 & 1.22652 & 88.5915 & 387.907 & 10.3445 & 10.2761 \\\\\n",
       "\t8 & 1.49418 & 1.24364 & 130.017 & 298.533 & 11.3368 & 9.80664 \\\\\n",
       "\t9 & 1.60152 & 1.16441 & 107.787 & 734.135 & 11.7319 & 10.7277 \\\\\n",
       "\t10 & 1.37055 & 1.35368 & 196.504 & 217.925 & 10.565 & 10.4665 \\\\\n",
       "\t11 & 1.62957 & 1.14584 & 146.334 & 1545.88 & 12.3021 & 12.3168 \\\\\n",
       "\t12 & 1.62455 & 1.14899 & 61.217 & 746.274 & 10.4087 & 11.1548 \\\\\n",
       "\t13 & 1.42081 & 1.30645 & 597.032 & 984.225 & 13.1329 & 12.5499 \\\\\n",
       "\t14 & 1.48451 & 1.25153 & 119.416 & 318.341 & 10.4354 & 10.2354 \\\\\n",
       "\t15 & 1.59421 & 1.16936 & 61.3408 & 229.307 & 10.1994 & 9.36626 \\\\\n",
       "\t16 & 1.45775 & 1.27389 & 325.947 & 747.682 & 12.118 & 12.2176 \\\\\n",
       "\t17 & 1.46492 & 1.26773 & 134.997 & 377.528 & 10.3832 & 10.6958 \\\\\n",
       "\t18 & 1.58518 & 1.17572 & 109.326 & 657.599 & 11.8051 & 10.7894 \\\\\n",
       "\t19 & 1.56004 & 1.19346 & 2.47045 & 296.831 & 7.01268 & 9.82252 \\\\\n",
       "\t20 & 1.56468 & 1.19021 & 65.8302 & 573.551 & 10.6067 & 10.9578 \\\\\n",
       "\t21 & 1.48856 & 1.24845 & 230.412 & 714.742 & 12.06 & 11.8502 \\\\\n",
       "\t22 & 1.537 & 1.21063 & 90.7604 & 457.014 & 10.3815 & 10.6067 \\\\\n",
       "\t23 & 1.57392 & 1.18374 & 99.6127 & 686.378 & 10.9341 & 11.1636 \\\\\n",
       "\t24 & 1.5584 & 1.19489 & 83.0427 & 625.839 & 10.5417 & 10.9187 \\\\\n",
       "\t$\\dots$ & $\\dots$ & $\\dots$ & $\\dots$ & $\\dots$ & $\\dots$ & $\\dots$ \\\\\n",
       "\\end{tabular}\n"
      ],
      "text/plain": [
       "\u001b[1m2921×6 DataFrame\u001b[0m\n",
       "\u001b[1m  Row \u001b[0m│\u001b[1m m1      \u001b[0m\u001b[1m m2      \u001b[0m\u001b[1m lambda1  \u001b[0m\u001b[1m lambda2  \u001b[0m\u001b[1m r1       \u001b[0m\u001b[1m r2       \u001b[0m\n",
       "      │\u001b[90m Float64 \u001b[0m\u001b[90m Float64 \u001b[0m\u001b[90m Float64  \u001b[0m\u001b[90m Float64  \u001b[0m\u001b[90m Float64  \u001b[0m\u001b[90m Float64  \u001b[0m\n",
       "──────┼──────────────────────────────────────────────────────────\n",
       "    1 │ 1.54324  1.20575   97.0682   248.541  10.7308    9.35821\n",
       "    2 │ 1.48259  1.25312   19.6777   280.481   8.186     9.83399\n",
       "    3 │ 1.54161  1.20694   31.5247   235.512   9.14959   9.37391\n",
       "    4 │ 1.56288  1.19148   49.5723   409.682   9.95113  10.1028\n",
       "    5 │ 1.6563   1.12827   27.4413   246.93    9.60285   9.39553\n",
       "    6 │ 1.58729  1.17432   84.8243   455.685  10.6727   10.2046\n",
       "    7 │ 1.516    1.22652   88.5915   387.907  10.3445   10.2761\n",
       "    8 │ 1.49418  1.24364  130.017    298.533  11.3368    9.80664\n",
       "  ⋮   │    ⋮        ⋮        ⋮         ⋮         ⋮         ⋮\n",
       " 2915 │ 1.56742  1.18845  189.905   1202.68   12.2692   11.9623\n",
       " 2916 │ 1.55286  1.19876   74.5403   473.541  10.1105   10.5091\n",
       " 2917 │ 1.50833  1.2325    91.4214   229.584  10.7303    9.90107\n",
       " 2918 │ 1.60258  1.16359   59.8206   266.474  10.0584    9.31471\n",
       " 2919 │ 1.56125  1.19254   12.952    234.311   8.47579   9.32884\n",
       " 2920 │ 1.47602  1.2584   126.7      346.596  10.7416   10.8446\n",
       " 2921 │ 1.39578  1.32945  615.503    751.87   12.835    12.6825\n",
       "\u001b[36m                                                2906 rows omitted\u001b[0m"
      ]
     },
     "metadata": {},
     "output_type": "display_data"
    }
   ],
   "source": [
    "data = readdlm(\"EoS-insensitive_posterior_samples.dat\", skipstart=1)\n",
    "df = DataFrame()\n",
    "df.m1 = data[:,1]\n",
    "df.m2 = data[:,2]\n",
    "df.lambda1 = data[:,3]\n",
    "df.lambda2 = data[:,4]\n",
    "df.r1 = data[:,5]\n",
    "df.r2 = data[:,6]\n",
    "df"
   ]
  }
 ],
 "metadata": {
  "kernelspec": {
   "display_name": "Julia 1.10.0",
   "language": "julia",
   "name": "julia-1.10"
  },
  "language_info": {
   "file_extension": ".jl",
   "mimetype": "application/julia",
   "name": "julia",
   "version": "1.10.0"
  }
 },
 "nbformat": 4,
 "nbformat_minor": 2
}
